{
 "cells": [
  {
   "cell_type": "code",
   "execution_count": 4,
   "metadata": {},
   "outputs": [
    {
     "name": "stdout",
     "output_type": "stream",
     "text": [
      "           FERRETERÍA EL PAISA \n",
      "             TEL: 3176191179 \n",
      "                  NEIVA \n",
      "               CRA 3 #4-03\n",
      "FECHA: 2022-10-18  HORA: 10:44:49.532832 \n",
      "CAJERO: JHON FREDY CAMPOS CAMPOS\n",
      "=========================================\n",
      "CLIENTE: HOHAN \n",
      "IDENTIFICACION: 9838393\n",
      "=========================================\n",
      "Uds DESCRIPCION      PRECIO      TOTAL\n",
      "=========================================\n",
      "6   alambre        2000       12000\n",
      "      TOTAL:       12000\n",
      "=========================================\n",
      "              FORMA DE PAGO \n",
      "     EFECTIVO        20000 \n",
      "     CAMBIO        8000\n",
      "=========================================\n",
      "         ¡GRACIAS POR TU COMPRA! \n",
      "¡Unete a nuetro programa de fidelizacion!\n"
     ]
    },
    {
     "data": {
      "image/png": "[encoded data removed]",
      "text/plain": [
       "<IPython.core.display.Image object>"
      ]
     },
     "execution_count": 4,
     "metadata": {
      "image/png": {
       "height": 100,
       "width": 100
      }
     },
     "output_type": "execute_result"
    }
   ],
   "source": [
    "from datetime import datetime\n",
    "from reportlab.lib.pagesizes import letter\n",
    "from reportlab.pdfgen import canvas\n",
    "from IPython.display import Image\n",
    "import qrcode\n",
    "\n",
    "\n",
    "articulos={'alambre':2000,'barilla':10000,'tubos':5000,'pintura':20000,'tornillos':2000,}\n",
    "\n",
    "\n",
    "\n",
    "class factura:\n",
    "    #por medio de datetime obtiene la fecha y hora actual\n",
    "    date = datetime.now()\n",
    "    fecha=date.date()\n",
    "    hora=date.time()\n",
    "    \n",
    "    #contador para calcular el total a pagar\n",
    "    totalpagar=0\n",
    "    \n",
    "    #separacion el la factura\n",
    "    separacion=\"=========================================\"\n",
    "\n",
    "   \n",
    "\n",
    "    def __init__(self,nombre,identificacion):\n",
    "        self.nombre=nombre\n",
    "        self.identificacion=identificacion\n",
    "\n",
    "    \n",
    "\n",
    "    \n",
    "    def compra_mostrarfactura(self):\n",
    "        w, h = letter\n",
    "        c=canvas.Canvas('recibo caja2.pdf',pagesize=letter)\n",
    "        c.setFont('Helvetica',10)\n",
    "        c.rect(200,h-400,260,320)\n",
    "\n",
    "        print('           FERRETERÍA EL PAISA','\\n             TEL: 3176191179','\\n                  NEIVA','\\n               CRA 3 #4-03')\n",
    "        c.drawString(210,704,'                      FERRETERÍA EL PAISA')\n",
    "        c.drawString(210,694,'                            TEL: 3176191179')\n",
    "        c.drawString(210,684,'                                    NEIVA')\n",
    "        c.drawString(210,674,'                                CRA 3 #4-03')\n",
    "\n",
    "        print('FECHA:',self.fecha,' HORA:',self.hora,'\\nCAJERO: JHON FREDY CAMPOS CAMPOS')\n",
    "        print(self.separacion)\n",
    "        c.drawString(210,660,f\"  FECHA:{self.fecha}   HORA: {self.hora}\")\n",
    "        c.drawString(210,650,'  CAJERO: JHON FREDY CAMPOS CAMPOS')\n",
    "        c.drawString(210,640,self.separacion)\n",
    "\n",
    "        print('CLIENTE:',self.nombre,'\\nIDENTIFICACION:',self.identificacion)\n",
    "        print(self.separacion)\n",
    "        c.drawString(210,630,f'  CLIENTE: {self.nombre}')\n",
    "        c.drawString(210,620,f'  IDENTIFICACION: {self.identificacion}') \n",
    "        c.drawString(210,610,self.separacion)\n",
    "        \n",
    "        print('Uds DESCRIPCION      PRECIO      TOTAL')\n",
    "        print(self.separacion)\n",
    "        c.drawString(210,600,'  Uds  DESCRIPCION      PRECIO      TOTAL')\n",
    "        c.drawString(210,590,self.separacion)\n",
    "        \n",
    "        y=580\n",
    "        while True:\n",
    "            self.articulo=str(input('nombre del articulo'))\n",
    "            self.precio=articulos[self.articulo]\n",
    "            self.unidades=int(input('unidades'))\n",
    "            self.total=self.precio*self.unidades\n",
    "            print(self.unidades,' ',self.articulo,'      ',self.precio,'     ',self.total)\n",
    "            self.totalpagar=self.totalpagar+self.total\n",
    "            opcion=str(input('continuar(c) - finalizar(f)'))\n",
    "            c.drawString(210,y,f'     {self.unidades}     {self.articulo}              {self.precio}             {self.total}')\n",
    "            y=y-10\n",
    "            if opcion=='f':\n",
    "                break\n",
    "\n",
    "\n",
    "        print('      TOTAL:      ',self.totalpagar)\n",
    "        print(self.separacion)\n",
    "        c.drawString(210,530,f'      TOTAL:      {self.totalpagar}')\n",
    "        c.drawString(210,520,self.separacion)\n",
    "\n",
    "\n",
    "        self.dinerorecibido=int(input(f'debe pagar {self.totalpagar} dinero a recibir'))\n",
    "        self.cambio=self.dinerorecibido-self.totalpagar\n",
    "        print('              FORMA DE PAGO','\\n     EFECTIVO       ',self.dinerorecibido,'\\n     CAMBIO       ',self.cambio)\n",
    "        print(self.separacion)\n",
    "        c.drawString(210,510,'                 FORMA DE PAGO')\n",
    "        c.drawString(210,500,f'                EFECTIVO       {self.dinerorecibido}')\n",
    "        c.drawString(210,490,f'       CAMBIO       {self.cambio}')\n",
    "        c.drawString(210,480,self.separacion)\n",
    "\n",
    "        codigoqr=qrcode.make(f'{self.nombre} {self.totalpagar}')\n",
    "        codigoqr.save('codigoqr.png')\n",
    "\n",
    "        print('         ¡GRACIAS POR TU COMPRA!','\\n¡Unete a nuetro programa de fidelizacion!')\n",
    "        c.drawString(210,470,'                  ¡GRACIAS POR TU COMPRA!')\n",
    "        c.drawString(210,460,'        ¡Unete a nuetro programa de fidelizacion!')\n",
    "        c.drawImage('codigoqr.png',300,h-395,width=60,height=60)\n",
    "        c.save()\n",
    "        \n",
    "cliente=factura(str(input('nombre del cliente')),str(input('numero de documento del cliente')))\n",
    "cliente.compra_mostrarfactura()\n",
    "Image('codigoqr.png',width=100,height=100)"
   ]
  },
  {
   "cell_type": "code",
   "execution_count": 2,
   "metadata": {},
   "outputs": [
    {
     "name": "stderr",
     "output_type": "stream",
     "text": [
      "ERROR: Could not find a version that satisfies the requirement repotrlab (from versions: none)\n",
      "ERROR: No matching distribution found for repotrlab\n"
     ]
    }
   ],
   "source": [
    "!pip install repotrlab"
   ]
  }
 ],
 "metadata": {
  "kernelspec": {
   "display_name": "Python 3.10.8 64-bit (microsoft store)",
   "language": "python",
   "name": "python3"
  },
  "language_info": {
   "codemirror_mode": {
    "name": "ipython",
    "version": 3
   },
   "file_extension": ".py",
   "mimetype": "text/x-python",
   "name": "python",
   "nbconvert_exporter": "python",
   "pygments_lexer": "ipython3",
   "version": "3.10.8"
  },
  "orig_nbformat": 4,
  "vscode": {
   "interpreter": {
    "hash": "541f1ccb820e06d22b0e0ca226fd1b36bbd00a40fedd51f8e91c1934c9becc0a"
   }
  }
 },
 "nbformat": 4,
 "nbformat_minor": 2
}
